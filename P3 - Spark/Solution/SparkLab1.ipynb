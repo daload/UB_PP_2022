{
  "cells": [
    {
      "cell_type": "markdown",
      "metadata": {
        "id": "qVryd47Toj3B"
      },
      "source": [
        "# PySpark from Google colab\n",
        "\n",
        "In this lab we will see and test the basic functionality of Spark, and how to upload dataset files in Google colab.\n",
        "\n",
        "As you will see, installing pyspark is straightforward, so you should be easily able to install it on any computer at your disposal, with the command: pip install pyspark.\n",
        "\n",
        "Now we start the notebook by installing pyspark"
      ]
    },
    {
      "cell_type": "code",
      "execution_count": null,
      "metadata": {
        "id": "b_t7OxPVkNtS",
        "colab": {
          "base_uri": "https://localhost:8080/"
        },
        "outputId": "23adf836-22aa-49d1-ba95-c5cc83f61764"
      },
      "outputs": [
        {
          "output_type": "stream",
          "name": "stdout",
          "text": [
            "Collecting pyspark\n",
            "  Downloading pyspark-3.2.1.tar.gz (281.4 MB)\n",
            "\u001b[K     |████████████████████████████████| 281.4 MB 33 kB/s \n",
            "\u001b[?25hCollecting py4j==0.10.9.3\n",
            "  Downloading py4j-0.10.9.3-py2.py3-none-any.whl (198 kB)\n",
            "\u001b[K     |████████████████████████████████| 198 kB 48.0 MB/s \n",
            "\u001b[?25hBuilding wheels for collected packages: pyspark\n",
            "  Building wheel for pyspark (setup.py) ... \u001b[?25l\u001b[?25hdone\n",
            "  Created wheel for pyspark: filename=pyspark-3.2.1-py2.py3-none-any.whl size=281853642 sha256=032e962e1c11e6f46099669a8b21d178ce2d5ec291d30bf10459ce679e6d0f5f\n",
            "  Stored in directory: /root/.cache/pip/wheels/9f/f5/07/7cd8017084dce4e93e84e92efd1e1d5334db05f2e83bcef74f\n",
            "Successfully built pyspark\n",
            "Installing collected packages: py4j, pyspark\n",
            "Successfully installed py4j-0.10.9.3 pyspark-3.2.1\n"
          ]
        }
      ],
      "source": [
        "!pip install pyspark"
      ]
    },
    {
      "cell_type": "markdown",
      "metadata": {
        "id": "67mX47PSp59i"
      },
      "source": [
        "## Get the dataset\n",
        "\n",
        "In order to have a fast way to get the dataset we have prepared for this lab, we created a link to a file containing it in another google account, and written down all the necessary steps to get the file in the current path.\n",
        "\n",
        "This file is 2007.csv, and contains information about flights during the year 2007.\n",
        "\n",
        "Now, execute the following code cell."
      ]
    },
    {
      "cell_type": "code",
      "execution_count": null,
      "metadata": {
        "id": "aQaMx5sxvIto",
        "colab": {
          "base_uri": "https://localhost:8080/"
        },
        "outputId": "6735e3fd-9468-492a-8ece-c6fec66296a4"
      },
      "outputs": [
        {
          "output_type": "stream",
          "name": "stdout",
          "text": [
            "/usr/local/lib/python3.7/dist-packages/gdown/cli.py:131: FutureWarning: Option `--id` was deprecated in version 4.3.1 and will be removed in 5.0. You don't need to pass it anymore to use a file ID.\n",
            "  category=FutureWarning,\n",
            "Downloading...\n",
            "From: https://drive.google.com/uc?id=13yfm1bNdMBSaNp896pzrg4oCVd6JrVeP\n",
            "To: /content/Spark_Tutorial1.zip\n",
            "100% 121M/121M [00:01<00:00, 103MB/s]\n",
            "Archive:  Spark_Tutorial1.zip\n",
            "   creating: Spark_Tutorial1/\n",
            "  inflating: Spark_Tutorial1/.DS_Store  \n",
            "   creating: __MACOSX/\n",
            "   creating: __MACOSX/Spark_Tutorial1/\n",
            "  inflating: __MACOSX/Spark_Tutorial1/._.DS_Store  \n",
            "  inflating: Spark_Tutorial1/2007.csv.bz2  \n",
            "  inflating: __MACOSX/Spark_Tutorial1/._2007.csv.bz2  \n",
            "  inflating: Spark_Tutorial1/README.txt  \n",
            "  inflating: __MACOSX/Spark_Tutorial1/._README.txt  \n",
            "  inflating: Spark_Tutorial1/tutorial1.pdf  \n",
            "  inflating: __MACOSX/Spark_Tutorial1/._tutorial1.pdf  \n",
            "  inflating: __MACOSX/._Spark_Tutorial1  \n",
            "2007.csv  sample_data\n"
          ]
        }
      ],
      "source": [
        "!gdown --id \"13yfm1bNdMBSaNp896pzrg4oCVd6JrVeP\"\n",
        "!unzip Spark_Tutorial1.zip\n",
        "!bzip2 -d Spark_Tutorial1/2007.csv.bz2\n",
        "!mv Spark_Tutorial1/2007.csv .\n",
        "!rm -r __MACOSX\n",
        "!rm Spark_Tutorial1.zip\n",
        "!rm -r Spark_Tutorial1\n",
        "!ls"
      ]
    },
    {
      "cell_type": "markdown",
      "metadata": {
        "id": "uwY3OIb-5TfR"
      },
      "source": [
        "## Reading the file"
      ]
    },
    {
      "cell_type": "code",
      "execution_count": null,
      "metadata": {
        "id": "qUcg6USv37DY"
      },
      "outputs": [],
      "source": [
        "import pyspark\n",
        "from pyspark.sql import SparkSession\n",
        "spark = SparkSession.builder.master(\"local[1]\").appName('testSparkSession').getOrCreate()\n",
        "\n",
        "df = spark.read.format(\"csv\").option(\"header\", \"true\").option(\"nullValue\",\"NA\").option(\"inferSchema\", \"true\").load(\"2007.csv\")"
      ]
    },
    {
      "cell_type": "markdown",
      "metadata": {
        "id": "74y4TJdVGZMM"
      },
      "source": [
        "Now we loaded the entire file into a DataFrame named \"df\".\n",
        "\n",
        "Next we will ask Spark to print the associated schema for the data. This means, the rows of the table and the type of the data contained on each row."
      ]
    },
    {
      "cell_type": "code",
      "execution_count": null,
      "metadata": {
        "id": "2j3ixQKnGYC5",
        "colab": {
          "base_uri": "https://localhost:8080/"
        },
        "outputId": "f6eacd63-5126-44db-a8f0-ba6d3a8bf09c"
      },
      "outputs": [
        {
          "output_type": "stream",
          "name": "stdout",
          "text": [
            "root\n",
            " |-- Year: integer (nullable = true)\n",
            " |-- Month: integer (nullable = true)\n",
            " |-- DayofMonth: integer (nullable = true)\n",
            " |-- DayOfWeek: integer (nullable = true)\n",
            " |-- DepTime: integer (nullable = true)\n",
            " |-- CRSDepTime: integer (nullable = true)\n",
            " |-- ArrTime: integer (nullable = true)\n",
            " |-- CRSArrTime: integer (nullable = true)\n",
            " |-- UniqueCarrier: string (nullable = true)\n",
            " |-- FlightNum: integer (nullable = true)\n",
            " |-- TailNum: string (nullable = true)\n",
            " |-- ActualElapsedTime: integer (nullable = true)\n",
            " |-- CRSElapsedTime: integer (nullable = true)\n",
            " |-- AirTime: integer (nullable = true)\n",
            " |-- ArrDelay: integer (nullable = true)\n",
            " |-- DepDelay: integer (nullable = true)\n",
            " |-- Origin: string (nullable = true)\n",
            " |-- Dest: string (nullable = true)\n",
            " |-- Distance: integer (nullable = true)\n",
            " |-- TaxiIn: integer (nullable = true)\n",
            " |-- TaxiOut: integer (nullable = true)\n",
            " |-- Cancelled: integer (nullable = true)\n",
            " |-- CancellationCode: string (nullable = true)\n",
            " |-- Diverted: integer (nullable = true)\n",
            " |-- CarrierDelay: integer (nullable = true)\n",
            " |-- WeatherDelay: integer (nullable = true)\n",
            " |-- NASDelay: integer (nullable = true)\n",
            " |-- SecurityDelay: integer (nullable = true)\n",
            " |-- LateAircraftDelay: integer (nullable = true)\n",
            "\n"
          ]
        }
      ],
      "source": [
        "df.printSchema()"
      ]
    },
    {
      "cell_type": "markdown",
      "metadata": {
        "id": "W-r6hwUKG8S1"
      },
      "source": [
        "We can also ask Spark to tell us how many partitions has it made. Depending on the number of CPU cores of your system, this number will change.\n",
        "\n",
        "The idea to make partitions in a single computer, is to allow each CPU core to process different data."
      ]
    },
    {
      "cell_type": "code",
      "execution_count": null,
      "metadata": {
        "id": "Ji3M8IL0G_HM",
        "colab": {
          "base_uri": "https://localhost:8080/"
        },
        "outputId": "de77a13f-535a-410b-9375-3285b8ade2da"
      },
      "outputs": [
        {
          "output_type": "execute_result",
          "data": {
            "text/plain": [
              "6"
            ]
          },
          "metadata": {},
          "execution_count": 5
        }
      ],
      "source": [
        "df.rdd.getNumPartitions()"
      ]
    },
    {
      "cell_type": "markdown",
      "metadata": {
        "id": "PYKBLZBwHDPe"
      },
      "source": [
        "## Basic operations\n",
        "\n",
        "### Remove columns\n",
        "\n",
        "Spark offers a simple transformation to do that. Remember that transformations are not inmediatly executed."
      ]
    },
    {
      "cell_type": "code",
      "execution_count": null,
      "metadata": {
        "id": "uzzn5Wp_HDiG"
      },
      "outputs": [],
      "source": [
        "df2 = df.drop(\"FlightNum\",\"TailNum\",\"UniqueCarrier\")"
      ]
    },
    {
      "cell_type": "markdown",
      "metadata": {
        "id": "mJuH-Mh4IVgs"
      },
      "source": [
        "We can also do it in another way. Instead of removing columns, we can create a new dataframe, with only the columns we want to work with."
      ]
    },
    {
      "cell_type": "code",
      "execution_count": null,
      "metadata": {
        "id": "SJjZ3NuDIWDj",
        "colab": {
          "base_uri": "https://localhost:8080/"
        },
        "outputId": "f16317cc-ef5b-4a3e-eff9-e3f109be2616"
      },
      "outputs": [
        {
          "output_type": "stream",
          "name": "stdout",
          "text": [
            "+------+----+--------+--------+\n",
            "|Origin|Dest|ArrDelay|DepDelay|\n",
            "+------+----+--------+--------+\n",
            "|   SMF| ONT|       1|       7|\n",
            "|   SMF| PDX|       8|      13|\n",
            "|   SMF| PDX|      34|      36|\n",
            "|   SMF| PDX|      26|      30|\n",
            "|   SMF| PDX|      -3|       1|\n",
            "|   SMF| PDX|       3|      10|\n",
            "|   SMF| PHX|      47|      56|\n",
            "|   SMF| PHX|      -2|       9|\n",
            "|   SMF| PHX|      44|      47|\n",
            "|   SMF| PHX|      -7|       3|\n",
            "|   SMF| PHX|     -11|       1|\n",
            "|   SMF| PHX|      52|      52|\n",
            "|   SMF| SAN|      45|      53|\n",
            "|   SMF| SAN|     -17|      -5|\n",
            "|   SMF| SAN|      -5|       6|\n",
            "|   SMF| SAN|      33|      44|\n",
            "|   SMF| SAN|      -9|       0|\n",
            "|   SMF| SAN|      -7|       2|\n",
            "|   SMF| SAN|     -11|       1|\n",
            "|   SMF| SAN|      36|      29|\n",
            "+------+----+--------+--------+\n",
            "only showing top 20 rows\n",
            "\n"
          ]
        }
      ],
      "source": [
        "df2 = df.select(\"Origin\", \"Dest\", \"ArrDelay\", \"DepDelay\")\n",
        "df2.show()"
      ]
    },
    {
      "cell_type": "markdown",
      "metadata": {
        "id": "7TwviX7jIYzE"
      },
      "source": [
        "From now on, we will work with df2 contents, but before we want to remove all the entries with a NA value in the columns ArrDelay or DepDelay."
      ]
    },
    {
      "cell_type": "code",
      "execution_count": null,
      "metadata": {
        "id": "38dU-IP0IZCx"
      },
      "outputs": [],
      "source": [
        "df3 = df2.na.drop()"
      ]
    },
    {
      "cell_type": "markdown",
      "metadata": {
        "id": "1BSWcwi3IbZd"
      },
      "source": [
        "### Add columns\n",
        "\n",
        "We can add new columns and new information. For instance, in the dataframe we have information about the departure delay (DepDelay) and the arrival delay (ArrDelay). With that, we can create a new column composed by the addition of the two."
      ]
    },
    {
      "cell_type": "code",
      "execution_count": null,
      "metadata": {
        "id": "kDIGYMXQIb64"
      },
      "outputs": [],
      "source": [
        "from pyspark.sql.functions import expr\n",
        "df4 = df3.withColumn(\"SumDelay\", expr(\"ArrDelay + DepDelay\"))"
      ]
    },
    {
      "cell_type": "markdown",
      "metadata": {
        "id": "AU8ZGBdxRUeg"
      },
      "source": [
        "Now we can check the results by executing an action, which will tirgger the execution of all the accumulated transformations."
      ]
    },
    {
      "cell_type": "code",
      "execution_count": null,
      "metadata": {
        "id": "dmXv0kt0RVBh",
        "colab": {
          "base_uri": "https://localhost:8080/"
        },
        "outputId": "c7e28499-1e47-42e9-87d9-25c446f27228"
      },
      "outputs": [
        {
          "output_type": "stream",
          "name": "stdout",
          "text": [
            "+--------+--------+--------+\n",
            "|DepDelay|ArrDelay|SumDelay|\n",
            "+--------+--------+--------+\n",
            "|       7|       1|       8|\n",
            "|      13|       8|      21|\n",
            "|      36|      34|      70|\n",
            "|      30|      26|      56|\n",
            "|       1|      -3|      -2|\n",
            "|      10|       3|      13|\n",
            "|      56|      47|     103|\n",
            "|       9|      -2|       7|\n",
            "|      47|      44|      91|\n",
            "|       3|      -7|      -4|\n",
            "+--------+--------+--------+\n",
            "only showing top 10 rows\n",
            "\n"
          ]
        }
      ],
      "source": [
        "df4.select(\"DepDelay\", \"ArrDelay\", \"SumDelay\").show(10)"
      ]
    },
    {
      "cell_type": "markdown",
      "metadata": {
        "id": "ApOTldT8RXvw"
      },
      "source": [
        "See that the action was executed very quickly! That is because the transformations where only applied to the first 10 entries of our DataFrame.\n",
        "\n",
        "In case we are interested in knowing the maximum and minimum delays, it will take more time, because we need to traverse the entire DataFrame."
      ]
    },
    {
      "cell_type": "code",
      "execution_count": null,
      "metadata": {
        "id": "uClAa2NERYbK",
        "colab": {
          "base_uri": "https://localhost:8080/"
        },
        "outputId": "5392a767-5a87-4796-a735-e31564438268"
      },
      "outputs": [
        {
          "output_type": "stream",
          "name": "stdout",
          "text": [
            "+-------------+-------------+\n",
            "|max(SumDelay)|min(SumDelay)|\n",
            "+-------------+-------------+\n",
            "|         5199|         -617|\n",
            "+-------------+-------------+\n",
            "\n"
          ]
        }
      ],
      "source": [
        "from pyspark.sql.functions import max, min\n",
        "df4.select(max(\"SumDelay\"),min(\"SumDelay\")).show()"
      ]
    },
    {
      "cell_type": "markdown",
      "metadata": {
        "id": "jPTRmw2iRcv_"
      },
      "source": [
        "And we can also find the mean:"
      ]
    },
    {
      "cell_type": "code",
      "execution_count": null,
      "metadata": {
        "id": "_GnXWt2eRdCv",
        "colab": {
          "base_uri": "https://localhost:8080/"
        },
        "outputId": "5e53c722-c33f-45c8-8cd4-ceeb27b0193f"
      },
      "outputs": [
        {
          "output_type": "stream",
          "name": "stdout",
          "text": [
            "+-------------+-------------+-----------------+\n",
            "|max(SumDelay)|min(SumDelay)|    avg(SumDelay)|\n",
            "+-------------+-------------+-----------------+\n",
            "|         5199|         -617|21.55425998256014|\n",
            "+-------------+-------------+-----------------+\n",
            "\n"
          ]
        }
      ],
      "source": [
        "from pyspark.sql.functions import avg\n",
        "df4.select(max(\"SumDelay\"),min(\"SumDelay\"),avg(\"SumDelay\")).show()"
      ]
    },
    {
      "cell_type": "markdown",
      "metadata": {
        "id": "uxkg-WCqRkut"
      },
      "source": [
        "### Storing intermadiate results\n",
        "\n",
        "It is not mandatory to always execute all the transformations all the time. We can ask Spark to keep the results of all the transformations already present in a data frame. That way, the next transformations we add will continue from there.\n",
        "\n",
        "The intermediate results will be stored either on RAM or hard disk. This will be decided by Spark."
      ]
    },
    {
      "cell_type": "code",
      "execution_count": null,
      "metadata": {
        "id": "7yxV_XEkRlF_",
        "colab": {
          "base_uri": "https://localhost:8080/"
        },
        "outputId": "f2827d34-64a9-48ad-bb5b-600d66f606c3"
      },
      "outputs": [
        {
          "output_type": "execute_result",
          "data": {
            "text/plain": [
              "DataFrame[Origin: string, Dest: string, ArrDelay: int, DepDelay: int, SumDelay: int]"
            ]
          },
          "metadata": {},
          "execution_count": 13
        }
      ],
      "source": [
        "df4.cache()"
      ]
    },
    {
      "cell_type": "markdown",
      "metadata": {
        "id": "97HVnkNWTj92"
      },
      "source": [
        "### Filter operations\n",
        "\n",
        "Filter operations allow us to create new DataFrames that satisfy a condition over the data in another DataFrame.\n",
        "\n",
        "There are two transformations that allow to do that: \"where\" and \"filter\"."
      ]
    },
    {
      "cell_type": "code",
      "execution_count": null,
      "metadata": {
        "id": "2jimmhULTneM",
        "colab": {
          "base_uri": "https://localhost:8080/"
        },
        "outputId": "cdcdbabc-2cd8-46aa-969a-2465d5ded736"
      },
      "outputs": [
        {
          "output_type": "stream",
          "name": "stdout",
          "text": [
            "+------+----+--------+--------+--------+\n",
            "|Origin|Dest|ArrDelay|DepDelay|SumDelay|\n",
            "+------+----+--------+--------+--------+\n",
            "|   SMF| PDX|      -3|       1|      -2|\n",
            "|   SMF| PHX|      -7|       3|      -4|\n",
            "|   SMF| PHX|     -11|       1|     -10|\n",
            "|   SMF| SAN|     -17|      -5|     -22|\n",
            "|   SMF| SAN|      -9|       0|      -9|\n",
            "|   SMF| SAN|      -7|       2|      -5|\n",
            "|   SMF| SAN|     -11|       1|     -10|\n",
            "|   SMF| SAN|      -6|       3|      -3|\n",
            "|   SMF| SAN|     -14|       0|     -14|\n",
            "|   SMF| SAN|      -9|      -5|     -14|\n",
            "|   SMF| SNA|      -4|       0|      -4|\n",
            "|   SMF| SNA|      -8|       2|      -6|\n",
            "|   SMF| SNA|     -16|      -4|     -20|\n",
            "|   SMF| SNA|      -7|       0|      -7|\n",
            "|   SMF| SNA|     -15|      -4|     -19|\n",
            "|   SNA| MDW|     -18|       0|     -18|\n",
            "|   SNA| OAK|      -1|       0|      -1|\n",
            "|   SNA| OAK|       0|      -1|      -1|\n",
            "|   SNA| OAK|      -2|       0|      -2|\n",
            "|   SNA| OAK|      -1|       0|      -1|\n",
            "+------+----+--------+--------+--------+\n",
            "only showing top 20 rows\n",
            "\n"
          ]
        }
      ],
      "source": [
        "df5 = df4.where(\"SumDelay < 0\")\n",
        "df5.show()"
      ]
    },
    {
      "cell_type": "markdown",
      "metadata": {
        "id": "PHVD6VdoTq1B"
      },
      "source": [
        "Now we can check how many flights land before time."
      ]
    },
    {
      "cell_type": "code",
      "execution_count": null,
      "metadata": {
        "id": "HCZ1q906TsQ5",
        "colab": {
          "base_uri": "https://localhost:8080/"
        },
        "outputId": "02c75445-da02-4917-ee4e-575096b50b25"
      },
      "outputs": [
        {
          "output_type": "execute_result",
          "data": {
            "text/plain": [
              "3676937"
            ]
          },
          "metadata": {},
          "execution_count": 15
        }
      ],
      "source": [
        "df3.count()\n",
        "df5.count()"
      ]
    },
    {
      "cell_type": "markdown",
      "metadata": {
        "id": "8VYaNHy4Tx-e"
      },
      "source": [
        "We can also apply more than one filter, one after the other."
      ]
    },
    {
      "cell_type": "code",
      "execution_count": null,
      "metadata": {
        "id": "7Ag6yiFVTyMf",
        "colab": {
          "base_uri": "https://localhost:8080/"
        },
        "outputId": "14bc73eb-54a2-443e-edf8-a646e621d992"
      },
      "outputs": [
        {
          "output_type": "stream",
          "name": "stdout",
          "text": [
            "+------+----+--------+--------+--------+\n",
            "|Origin|Dest|ArrDelay|DepDelay|SumDelay|\n",
            "+------+----+--------+--------+--------+\n",
            "|   JFK| CLE|     -13|     -19|     -32|\n",
            "|   JFK| CLE|     -25|      -3|     -28|\n",
            "|   JFK| CLE|     -25|      -8|     -33|\n",
            "|   JFK| CLE|       4|     -14|     -10|\n",
            "|   JFK| CLE|     -17|      -2|     -19|\n",
            "|   JFK| CLE|      -4|      -3|      -7|\n",
            "|   JFK| CLE|      -4|      -3|      -7|\n",
            "|   JFK| CLE|      -1|      -8|      -9|\n",
            "|   JFK| CLE|     -17|     -10|     -27|\n",
            "|   JFK| CLE|     -30|      -9|     -39|\n",
            "|   JFK| CLE|       3|      -5|      -2|\n",
            "|   JFK| CLE|      -6|     -10|     -16|\n",
            "|   JFK| CLE|     -20|      -4|     -24|\n",
            "|   JFK| CLE|     -12|      -6|     -18|\n",
            "|   JFK| CLE|       5|      -8|      -3|\n",
            "|   JFK| IAD|     -15|      -3|     -18|\n",
            "|   JFK| IAD|      -4|       1|      -3|\n",
            "|   JFK| IAD|     -13|     -16|     -29|\n",
            "|   JFK| IAD|      -7|       6|      -1|\n",
            "|   JFK| CLT|      -8|       0|      -8|\n",
            "+------+----+--------+--------+--------+\n",
            "only showing top 20 rows\n",
            "\n"
          ]
        },
        {
          "output_type": "execute_result",
          "data": {
            "text/plain": [
              "53321"
            ]
          },
          "metadata": {},
          "execution_count": 16
        }
      ],
      "source": [
        "df5 = df4.where(\"SumDelay < 0\").where(\"Origin == 'JFK'\")\n",
        "df5.show()\n",
        "df5.count()"
      ]
    },
    {
      "cell_type": "markdown",
      "metadata": {
        "id": "KPYbxempT1Qj"
      },
      "source": [
        "The \"filter\" transformation is very similar to \"where\".\n",
        "\n",
        "We can do the same operation whe previously did, but using \"filter\" instead of \"where\"."
      ]
    },
    {
      "cell_type": "code",
      "execution_count": null,
      "metadata": {
        "id": "mH-6bRuxT1hV",
        "colab": {
          "base_uri": "https://localhost:8080/"
        },
        "outputId": "cd23222a-99c4-41cf-d801-e49080b05334"
      },
      "outputs": [
        {
          "output_type": "execute_result",
          "data": {
            "text/plain": [
              "53321"
            ]
          },
          "metadata": {},
          "execution_count": 17
        }
      ],
      "source": [
        "from pyspark.sql.functions import col\n",
        "i = 0\n",
        "city = \"JFK\"\n",
        "df5 = df4.filter(col(\"SumDelay\") < i).filter(col(\"Origin\") == city)\n",
        "df5.count()"
      ]
    },
    {
      "cell_type": "markdown",
      "metadata": {
        "id": "sBgxWtsmT5EK"
      },
      "source": [
        "#### Test\n",
        "\n",
        "Could you find the total, maximum, minimum and average delay for flights that start from 'JFK' airport? "
      ]
    },
    {
      "cell_type": "code",
      "execution_count": null,
      "metadata": {
        "id": "m3w8dmfvV6kb",
        "colab": {
          "base_uri": "https://localhost:8080/"
        },
        "outputId": "ce394bfb-5d32-40c5-b62d-ac441fb4ff51"
      },
      "outputs": [
        {
          "output_type": "stream",
          "name": "stdout",
          "text": [
            "+-------------+-------------+-------------+-----------------+\n",
            "|sum(SumDelay)|max(SumDelay)|min(SumDelay)|    avg(SumDelay)|\n",
            "+-------------+-------------+-------------+-----------------+\n",
            "|    156813449|         5199|         -617|21.55425998256014|\n",
            "+-------------+-------------+-------------+-----------------+\n",
            "\n"
          ]
        }
      ],
      "source": [
        "from pyspark.sql.functions import sum, avg, min, max\n",
        "# your code here\n",
        "df_test = df4.where(\"Origin == 'JFK'\")\n",
        "df4.select(sum(\"SumDelay\"), max(\"SumDelay\"), min(\"SumDelay\"), avg(\"SumDelay\")).show()"
      ]
    },
    {
      "cell_type": "markdown",
      "metadata": {
        "id": "6xJWQ__OWAWk"
      },
      "source": [
        "## Sort operations\n",
        "\n"
      ]
    },
    {
      "cell_type": "code",
      "execution_count": null,
      "metadata": {
        "id": "QGVDR24tT5e7"
      },
      "outputs": [],
      "source": [
        "from pyspark.sql.functions import asc, desc\n",
        "df5 = df4.sort(asc(\"SumDelay\"))"
      ]
    },
    {
      "cell_type": "markdown",
      "metadata": {
        "id": "1CyqhsHrWLOa"
      },
      "source": [
        "Here we sorted the data by the total delay.\n",
        "\n",
        "This is an ascendent ordering, from minor to major.\n",
        "\n",
        "Again, this is a transformation, and is not executed until we execute an action like \"show\"."
      ]
    },
    {
      "cell_type": "code",
      "execution_count": null,
      "metadata": {
        "id": "hZElCcIbWJxF",
        "colab": {
          "base_uri": "https://localhost:8080/"
        },
        "outputId": "ae22a214-97ee-4a29-cb0e-3ce4d7a78837"
      },
      "outputs": [
        {
          "output_type": "stream",
          "name": "stdout",
          "text": [
            "+------+----+--------+--------+--------+\n",
            "|Origin|Dest|ArrDelay|DepDelay|SumDelay|\n",
            "+------+----+--------+--------+--------+\n",
            "|   AKN| ANC|    -312|    -305|    -617|\n",
            "|   CHA| ATL|    -175|    -165|    -340|\n",
            "|   ANC| FAI|    -162|    -165|    -327|\n",
            "|   AUS| ATL|    -132|    -124|    -256|\n",
            "|   ATL| AVL|    -116|    -111|    -227|\n",
            "|   ANC| SEA|     -13|    -168|    -181|\n",
            "|   SAN| OKC|    -157|     -19|    -176|\n",
            "|   HNL| KOA|     -89|     -82|    -171|\n",
            "|   SFO| HNL|       8|    -169|    -161|\n",
            "|   ADK| ANC|     -83|     -72|    -155|\n",
            "|   SJC| SBA|     -82|     -67|    -149|\n",
            "|   ITO| HNL|     -74|     -71|    -145|\n",
            "|   ADK| ANC|     -78|     -67|    -145|\n",
            "|   GNV| ATL|     -82|     -62|    -144|\n",
            "|   ANC| SEA|      -5|    -137|    -142|\n",
            "|   PHL| SJU|     -79|     -60|    -139|\n",
            "|   KOA| HNL|     -72|     -65|    -137|\n",
            "|   ADK| ANC|     -79|     -58|    -137|\n",
            "|   YAK| JNU|     -73|     -64|    -137|\n",
            "|   DHN| ATL|     -75|     -60|    -135|\n",
            "+------+----+--------+--------+--------+\n",
            "only showing top 20 rows\n",
            "\n"
          ]
        }
      ],
      "source": [
        "df5.show()"
      ]
    },
    {
      "cell_type": "markdown",
      "metadata": {
        "id": "mZeN7aFgWNpv"
      },
      "source": [
        "We can also do the ordering in descendent order. But in this case we will ask only the first 5 elements."
      ]
    },
    {
      "cell_type": "code",
      "execution_count": null,
      "metadata": {
        "id": "uMF9YhjwWOD9",
        "colab": {
          "base_uri": "https://localhost:8080/"
        },
        "outputId": "c5bae84a-2ffa-4912-ce7d-0610da2ebddb"
      },
      "outputs": [
        {
          "output_type": "stream",
          "name": "stdout",
          "text": [
            "+------+----+--------+--------+--------+\n",
            "|Origin|Dest|ArrDelay|DepDelay|SumDelay|\n",
            "+------+----+--------+--------+--------+\n",
            "|   PBI| DTW|    2598|    2601|    5199|\n",
            "|   ALO| MSP|    1942|    1956|    3898|\n",
            "|   HNL| MSP|    1848|    1831|    3679|\n",
            "|   FWA| DTW|    1715|    1736|    3451|\n",
            "|   FAI| MSP|    1665|    1689|    3354|\n",
            "+------+----+--------+--------+--------+\n",
            "\n"
          ]
        }
      ],
      "source": [
        "df5 = df4.sort(desc(\"SumDelay\")).limit(5)\n",
        "df5.show()"
      ]
    },
    {
      "cell_type": "markdown",
      "metadata": {
        "id": "1ht-1Id9WRel"
      },
      "source": [
        "### Obtaining unique elements\n",
        "\n",
        "How many different airports are in the DataFrame?"
      ]
    },
    {
      "cell_type": "code",
      "execution_count": null,
      "metadata": {
        "id": "smWcRQKRWR-F",
        "colab": {
          "base_uri": "https://localhost:8080/"
        },
        "outputId": "32792816-e385-47ca-b2d0-a1d89537223b"
      },
      "outputs": [
        {
          "output_type": "execute_result",
          "data": {
            "text/plain": [
              "304"
            ]
          },
          "metadata": {},
          "execution_count": 24
        }
      ],
      "source": [
        "df5 = df4.select(\"Origin\").distinct()\n",
        "df5.count()"
      ]
    },
    {
      "cell_type": "markdown",
      "metadata": {
        "id": "xawBziaJXUKs"
      },
      "source": [
        "#### Test\n",
        "\n",
        "How many destinations are there?"
      ]
    },
    {
      "cell_type": "code",
      "execution_count": null,
      "metadata": {
        "id": "-nYUwX39X0sj",
        "colab": {
          "base_uri": "https://localhost:8080/"
        },
        "outputId": "e5d0cb28-132a-4a4c-a4e9-c1bdefb41222"
      },
      "outputs": [
        {
          "output_type": "execute_result",
          "data": {
            "text/plain": [
              "304"
            ]
          },
          "metadata": {},
          "execution_count": 26
        }
      ],
      "source": [
        "# Your code here\n",
        "df_test = df4.select(\"Dest\").distinct()\n",
        "df_test.count()"
      ]
    },
    {
      "cell_type": "markdown",
      "metadata": {
        "id": "eaSoKh3cXmnk"
      },
      "source": [
        "Additionally, what does the following operation do?  \n",
        "*Counts the number of different pairs of origin-destination*"
      ]
    },
    {
      "cell_type": "code",
      "execution_count": null,
      "metadata": {
        "id": "xhgyQyoMXmDH",
        "colab": {
          "base_uri": "https://localhost:8080/"
        },
        "outputId": "87a829cf-5be4-4845-d284-dcbc43b12939"
      },
      "outputs": [
        {
          "output_type": "execute_result",
          "data": {
            "text/plain": [
              "5032"
            ]
          },
          "metadata": {},
          "execution_count": 29
        }
      ],
      "source": [
        "df4.select(\"Origin\",\"Dest\").distinct().count()"
      ]
    },
    {
      "cell_type": "markdown",
      "metadata": {
        "id": "RJraRJkuX7HN"
      },
      "source": [
        "### Accessing data from python\n",
        "\n",
        "We will show how to dump df4 into a python variable and how to read it."
      ]
    },
    {
      "cell_type": "code",
      "execution_count": null,
      "metadata": {
        "id": "BMSWCbHMYHvz",
        "colab": {
          "base_uri": "https://localhost:8080/"
        },
        "outputId": "f3cfae6d-bf82-4bb0-ed8c-759cd590ffd3"
      },
      "outputs": [
        {
          "output_type": "execute_result",
          "data": {
            "text/plain": [
              "7"
            ]
          },
          "metadata": {},
          "execution_count": 30
        }
      ],
      "source": [
        "dades = df4.limit(5).collect()\n",
        "dades\n",
        "dades[0]\n",
        "dades[0][3]"
      ]
    },
    {
      "cell_type": "markdown",
      "metadata": {
        "id": "sBTTsjS1YMlH"
      },
      "source": [
        "## Writing into files\n",
        "\n",
        "We have seen how to read a csv file from disc. Now we will see how to do the opposite.\n",
        "\n",
        "Let's save df4 into disk. Remember it has n partitions."
      ]
    },
    {
      "cell_type": "code",
      "execution_count": null,
      "metadata": {
        "id": "WLlKWPH4YgXr",
        "colab": {
          "base_uri": "https://localhost:8080/"
        },
        "outputId": "4f531309-078f-47dd-a0c0-f1b98b6364e7"
      },
      "outputs": [
        {
          "output_type": "execute_result",
          "data": {
            "text/plain": [
              "6"
            ]
          },
          "metadata": {},
          "execution_count": 31
        }
      ],
      "source": [
        "df4.rdd.getNumPartitions()"
      ]
    },
    {
      "cell_type": "markdown",
      "metadata": {
        "id": "YO40doMSYjAl"
      },
      "source": [
        "By default if we store df4 into a file, we would not obtain a single file, but as many files as partitions are there.\n",
        "\n",
        "To have all the data in a single frame we can use \"coalesce\""
      ]
    },
    {
      "cell_type": "code",
      "execution_count": null,
      "metadata": {
        "id": "kc1flgLBY1Ii",
        "colab": {
          "base_uri": "https://localhost:8080/"
        },
        "outputId": "179bb397-a821-4d01-ae8a-cb5e83137a3c"
      },
      "outputs": [
        {
          "output_type": "execute_result",
          "data": {
            "text/plain": [
              "1"
            ]
          },
          "metadata": {},
          "execution_count": 32
        }
      ],
      "source": [
        "df4_one = df4.coalesce(1)\n",
        "df4_one.rdd.getNumPartitions()"
      ]
    },
    {
      "cell_type": "markdown",
      "metadata": {
        "id": "rhtf0EDDY41X"
      },
      "source": [
        "df4_one has all the data in a single partition\n",
        "\n",
        "Now we can save it to a file."
      ]
    },
    {
      "cell_type": "code",
      "execution_count": null,
      "metadata": {
        "id": "MP1fWnzQY-Jy"
      },
      "outputs": [],
      "source": [
        "df4_one.write.csv('df4_one.csv')"
      ]
    },
    {
      "cell_type": "markdown",
      "metadata": {
        "id": "ldyq3XFeZUMv"
      },
      "source": [
        "### Test\n",
        "\n",
        "What happens if you try to sort the elements in df4_one? Will it be slower?\n",
        "\n",
        "Does the number of CPU cores affect the result?  \n",
        "*As we can see, sorting df4 is faster so we can conclude that the number of partitions (cores) affects the results.*"
      ]
    },
    {
      "cell_type": "code",
      "execution_count": null,
      "metadata": {
        "id": "yefQvdplZh6T",
        "colab": {
          "base_uri": "https://localhost:8080/"
        },
        "outputId": "306e968c-afa9-4884-906d-9d0528ac4136"
      },
      "outputs": [
        {
          "output_type": "stream",
          "name": "stdout",
          "text": [
            "Sort df4: \t0.010905352000008861\n",
            "Sort df4_one: \t0.011592767999900389\n",
            "\n",
            "df4 partitions: 6\n",
            "df4_one partitions: 1\n"
          ]
        }
      ],
      "source": [
        "# Your code here\n",
        "import timeit\n",
        "start1 = timeit.default_timer()\n",
        "df4_sorted = df4.sort(asc(\"SumDelay\"))\n",
        "time1 = timeit.default_timer() - start1\n",
        "\n",
        "start2 = timeit.default_timer()\n",
        "df4_one_sorted = df4_one.sort(asc(\"SumDelay\"))\n",
        "time2 = timeit.default_timer() - start2\n",
        "\n",
        "print(\"Sort df4: \\t{}\\nSort df4_one: \\t{}\\n\".format(time1, time2))\n",
        "print(\"df4 partitions: {}\\ndf4_one partitions: {}\".format(df4.rdd.getNumPartitions(), df4_one.rdd.getNumPartitions()))"
      ]
    }
  ],
  "metadata": {
    "colab": {
      "name": "SparkLab1.ipynb",
      "provenance": []
    },
    "kernelspec": {
      "display_name": "Python 3",
      "language": "python",
      "name": "python3"
    },
    "language_info": {
      "codemirror_mode": {
        "name": "ipython",
        "version": 3
      },
      "file_extension": ".py",
      "mimetype": "text/x-python",
      "name": "python",
      "nbconvert_exporter": "python",
      "pygments_lexer": "ipython3",
      "version": "3.8.5"
    }
  },
  "nbformat": 4,
  "nbformat_minor": 0
}